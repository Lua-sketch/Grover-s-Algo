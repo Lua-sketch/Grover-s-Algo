{
 "cells": [
  {
   "cell_type": "markdown",
   "metadata": {},
   "source": [
    "# Cohort 4 Screening Task 1"
   ]
  },
  {
   "cell_type": "markdown",
   "metadata": {},
   "source": [
    "Following is one possible solution to the Task 1. We begin by importing the appropriate libraries:"
   ]
  },
  {
   "cell_type": "code",
   "execution_count": 1,
   "metadata": {},
   "outputs": [],
   "source": [
    "#initialization\n",
    "import matplotlib.pyplot as plt\n",
    "import numpy as np\n",
    "\n",
    "# importing Qiskit\n",
    "from qiskit import IBMQ, Aer, assemble, transpile, execute\n",
    "from qiskit import QuantumCircuit, ClassicalRegister, QuantumRegister\n",
    "from qiskit.providers.ibmq import least_busy\n",
    "\n",
    "# import basic plot tools\n",
    "from qiskit.visualization import plot_histogram"
   ]
  },
  {
   "cell_type": "markdown",
   "metadata": {},
   "source": [
    "Next, we will create our circuit and define our oracle function. The idea is to have an equal superposition of 8-qubit states to begin with, and to use Grover's algorithm to keep only those that obey the target condition (where the first four digits would correspond to one number in binary form and the last four to another). For that, we create a clause list in which we list the indeces of the digits that need to be compared. "
   ]
  },
  {
   "cell_type": "code",
   "execution_count": 6,
   "metadata": {
    "scrolled": true
   },
   "outputs": [],
   "source": [
    "clause_list = [[0, 4], [1, 5], [2, 6], [3, 7]]"
   ]
  },
  {
   "cell_type": "markdown",
   "metadata": {},
   "source": [
    "Next, we think about how we will compare the necessary indeces. We want them to be opposite, so we are looking for a xor operation. We might define one as:"
   ]
  },
  {
   "cell_type": "code",
   "execution_count": 2,
   "metadata": {},
   "outputs": [],
   "source": [
    "def XOR(qc, a, b, output):\n",
    "    qc.cx(a, output)\n",
    "    qc.cx(b, output)"
   ]
  },
  {
   "cell_type": "markdown",
   "metadata": {},
   "source": [
    "Now, we declare our quantum circuit. We want a superposition of 8-qubit states, which we store in the var_qubits quantum register. To store the result of checking each clause, we create a clause_qubits register as well. We will need an output qubit which will have its value depend on the values of the clause qubits (if all clauses are satisfied, the output will be 1). Finally, we want 8 classical bits to measure the var_qubits."
   ]
  },
  {
   "cell_type": "code",
   "execution_count": 4,
   "metadata": {},
   "outputs": [],
   "source": [
    "var_qubits = QuantumRegister(8, name='v')\n",
    "clause_qubits = QuantumRegister(4, name='c')\n",
    "output_qubit = QuantumRegister(1, name='out')\n",
    "cbits = ClassicalRegister(8, name='cbits')\n",
    "\n",
    "qc = QuantumCircuit(var_qubits, clause_qubits, output_qubit, cbits)"
   ]
  },
  {
   "cell_type": "markdown",
   "metadata": {},
   "source": [
    "Our oracle should simply check all clauses, switch the value of the corresponding clause qubit when a clause is obeyed, and flip the output qubit when all clauses are obeyed. Additionally, in order to use Grover's algorithm later, we need to 'uncompute' the clause qubits once we have decided whether or not the output should be flipped. That way, we can repeat the process, and we have created an oracle:"
   ]
  },
  {
   "cell_type": "code",
   "execution_count": 7,
   "metadata": {
    "scrolled": true
   },
   "outputs": [
    {
     "data": {
      "text/html": [
       "<pre style=\"word-wrap: normal;white-space: pre;background: #fff0;line-height: 1.1;font-family: &quot;Courier New&quot;,Courier,monospace\">                                                                               »\n",
       "    v_0: ──■────────────────────────────────────────────■──────────────────────»\n",
       "           │                                            │                      »\n",
       "    v_1: ──┼────■───────────────────────────────────────┼────■─────────────────»\n",
       "           │    │                                       │    │                 »\n",
       "    v_2: ──┼────┼────■──────────────────────────────────┼────┼────■────────────»\n",
       "           │    │    │                                  │    │    │            »\n",
       "    v_3: ──┼────┼────┼────■─────────────────────────────┼────┼────┼────■───────»\n",
       "           │    │    │    │                             │    │    │    │       »\n",
       "    v_4: ──┼────┼────┼────┼────■────────────────────────┼────┼────┼────┼────■──»\n",
       "           │    │    │    │    │                        │    │    │    │    │  »\n",
       "    v_5: ──┼────┼────┼────┼────┼────■───────────────────┼────┼────┼────┼────┼──»\n",
       "           │    │    │    │    │    │                   │    │    │    │    │  »\n",
       "    v_6: ──┼────┼────┼────┼────┼────┼────■──────────────┼────┼────┼────┼────┼──»\n",
       "           │    │    │    │    │    │    │              │    │    │    │    │  »\n",
       "    v_7: ──┼────┼────┼────┼────┼────┼────┼────■─────────┼────┼────┼────┼────┼──»\n",
       "         ┌─┴─┐  │    │    │  ┌─┴─┐  │    │    │       ┌─┴─┐  │    │    │  ┌─┴─┐»\n",
       "    c_0: ┤ X ├──┼────┼────┼──┤ X ├──┼────┼────┼────■──┤ X ├──┼────┼────┼──┤ X ├»\n",
       "         └───┘┌─┴─┐  │    │  └───┘┌─┴─┐  │    │    │  └───┘┌─┴─┐  │    │  └───┘»\n",
       "    c_1: ─────┤ X ├──┼────┼───────┤ X ├──┼────┼────■───────┤ X ├──┼────┼───────»\n",
       "              └───┘┌─┴─┐  │       └───┘┌─┴─┐  │    │       └───┘┌─┴─┐  │       »\n",
       "    c_2: ──────────┤ X ├──┼────────────┤ X ├──┼────■────────────┤ X ├──┼───────»\n",
       "                   └───┘┌─┴─┐          └───┘┌─┴─┐  │            └───┘┌─┴─┐     »\n",
       "    c_3: ───────────────┤ X ├───────────────┤ X ├──■─────────────────┤ X ├─────»\n",
       "                        └───┘               └───┘┌─┴─┐               └───┘     »\n",
       "  out_0: ────────────────────────────────────────┤ X ├─────────────────────────»\n",
       "                                                 └───┘                         »\n",
       "cbits: 8/══════════════════════════════════════════════════════════════════════»\n",
       "                                                                               »\n",
       "«                        \n",
       "«    v_0: ───────────────\n",
       "«                        \n",
       "«    v_1: ───────────────\n",
       "«                        \n",
       "«    v_2: ───────────────\n",
       "«                        \n",
       "«    v_3: ───────────────\n",
       "«                        \n",
       "«    v_4: ───────────────\n",
       "«                        \n",
       "«    v_5: ──■────────────\n",
       "«           │            \n",
       "«    v_6: ──┼────■───────\n",
       "«           │    │       \n",
       "«    v_7: ──┼────┼────■──\n",
       "«           │    │    │  \n",
       "«    c_0: ──┼────┼────┼──\n",
       "«         ┌─┴─┐  │    │  \n",
       "«    c_1: ┤ X ├──┼────┼──\n",
       "«         └───┘┌─┴─┐  │  \n",
       "«    c_2: ─────┤ X ├──┼──\n",
       "«              └───┘┌─┴─┐\n",
       "«    c_3: ──────────┤ X ├\n",
       "«                   └───┘\n",
       "«  out_0: ───────────────\n",
       "«                        \n",
       "«cbits: 8/═══════════════\n",
       "«                        </pre>"
      ],
      "text/plain": [
       "                                                                               »\n",
       "    v_0: ──■────────────────────────────────────────────■──────────────────────»\n",
       "           │                                            │                      »\n",
       "    v_1: ──┼────■───────────────────────────────────────┼────■─────────────────»\n",
       "           │    │                                       │    │                 »\n",
       "    v_2: ──┼────┼────■──────────────────────────────────┼────┼────■────────────»\n",
       "           │    │    │                                  │    │    │            »\n",
       "    v_3: ──┼────┼────┼────■─────────────────────────────┼────┼────┼────■───────»\n",
       "           │    │    │    │                             │    │    │    │       »\n",
       "    v_4: ──┼────┼────┼────┼────■────────────────────────┼────┼────┼────┼────■──»\n",
       "           │    │    │    │    │                        │    │    │    │    │  »\n",
       "    v_5: ──┼────┼────┼────┼────┼────■───────────────────┼────┼────┼────┼────┼──»\n",
       "           │    │    │    │    │    │                   │    │    │    │    │  »\n",
       "    v_6: ──┼────┼────┼────┼────┼────┼────■──────────────┼────┼────┼────┼────┼──»\n",
       "           │    │    │    │    │    │    │              │    │    │    │    │  »\n",
       "    v_7: ──┼────┼────┼────┼────┼────┼────┼────■─────────┼────┼────┼────┼────┼──»\n",
       "         ┌─┴─┐  │    │    │  ┌─┴─┐  │    │    │       ┌─┴─┐  │    │    │  ┌─┴─┐»\n",
       "    c_0: ┤ X ├──┼────┼────┼──┤ X ├──┼────┼────┼────■──┤ X ├──┼────┼────┼──┤ X ├»\n",
       "         └───┘┌─┴─┐  │    │  └───┘┌─┴─┐  │    │    │  └───┘┌─┴─┐  │    │  └───┘»\n",
       "    c_1: ─────┤ X ├──┼────┼───────┤ X ├──┼────┼────■───────┤ X ├──┼────┼───────»\n",
       "              └───┘┌─┴─┐  │       └───┘┌─┴─┐  │    │       └───┘┌─┴─┐  │       »\n",
       "    c_2: ──────────┤ X ├──┼────────────┤ X ├──┼────■────────────┤ X ├──┼───────»\n",
       "                   └───┘┌─┴─┐          └───┘┌─┴─┐  │            └───┘┌─┴─┐     »\n",
       "    c_3: ───────────────┤ X ├───────────────┤ X ├──■─────────────────┤ X ├─────»\n",
       "                        └───┘               └───┘┌─┴─┐               └───┘     »\n",
       "  out_0: ────────────────────────────────────────┤ X ├─────────────────────────»\n",
       "                                                 └───┘                         »\n",
       "cbits: 8/══════════════════════════════════════════════════════════════════════»\n",
       "                                                                               »\n",
       "«                        \n",
       "«    v_0: ───────────────\n",
       "«                        \n",
       "«    v_1: ───────────────\n",
       "«                        \n",
       "«    v_2: ───────────────\n",
       "«                        \n",
       "«    v_3: ───────────────\n",
       "«                        \n",
       "«    v_4: ───────────────\n",
       "«                        \n",
       "«    v_5: ──■────────────\n",
       "«           │            \n",
       "«    v_6: ──┼────■───────\n",
       "«           │    │       \n",
       "«    v_7: ──┼────┼────■──\n",
       "«           │    │    │  \n",
       "«    c_0: ──┼────┼────┼──\n",
       "«         ┌─┴─┐  │    │  \n",
       "«    c_1: ┤ X ├──┼────┼──\n",
       "«         └───┘┌─┴─┐  │  \n",
       "«    c_2: ─────┤ X ├──┼──\n",
       "«              └───┘┌─┴─┐\n",
       "«    c_3: ──────────┤ X ├\n",
       "«                   └───┘\n",
       "«  out_0: ───────────────\n",
       "«                        \n",
       "«cbits: 8/═══════════════\n",
       "«                        "
      ]
     },
     "execution_count": 7,
     "metadata": {},
     "output_type": "execute_result"
    }
   ],
   "source": [
    "def oracle(qc, clause_list, clause_qubits):\n",
    "    i=0\n",
    "    for clause in clause_list:\n",
    "        XOR(qc, clause[0], clause[1], clause_qubits[i])\n",
    "        i+=1\n",
    "        \n",
    "    qc.mct(clause_qubits, output_qubit)\n",
    "    \n",
    "    i=0\n",
    "    for clause in clause_list:\n",
    "        XOR(qc, clause[0], clause[1], clause_qubits[i])\n",
    "        i+=1\n",
    "\n",
    "oracle(qc, clause_list, clause_qubits)   \n",
    "qc.draw()"
   ]
  },
  {
   "cell_type": "markdown",
   "metadata": {},
   "source": [
    "Finally, we simply put the oracle into Grover's algorithm, remembering to define a general diffuser first (as in the Qiskit textbook, chapter 3.8)"
   ]
  },
  {
   "cell_type": "code",
   "execution_count": 8,
   "metadata": {
    "scrolled": true
   },
   "outputs": [
    {
     "data": {
      "text/html": [
       "<pre style=\"word-wrap: normal;white-space: pre;background: #fff0;line-height: 1.1;font-family: &quot;Courier New&quot;,Courier,monospace\">                      ┌───┐               ░                                                                                       ░ ┌────────┐                                                                                      ░ ┌────────┐         ┌─┐         \n",
       "    v_0: ─────────────┤ H ├───────────────░───■────────────────────────────────────────────■──────────────────────────────────────░─┤0       ├──■────────────────────────────────────────────■──────────────────────────────────────░─┤0       ├─────────┤M├─────────\n",
       "                      ├───┤               ░   │                                            │                                      ░ │        │  │                                            │                                      ░ │        │         └╥┘┌─┐      \n",
       "    v_1: ─────────────┤ H ├───────────────░───┼────■───────────────────────────────────────┼────■─────────────────────────────────░─┤1       ├──┼────■───────────────────────────────────────┼────■─────────────────────────────────░─┤1       ├──────────╫─┤M├──────\n",
       "                      ├───┤               ░   │    │                                       │    │                                 ░ │  U$_s$ │  │    │                                       │    │                                 ░ │  U$_s$ │          ║ └╥┘┌─┐   \n",
       "    v_2: ─────────────┤ H ├───────────────░───┼────┼────■──────────────────────────────────┼────┼────■────────────────────────────░─┤2       ├──┼────┼────■──────────────────────────────────┼────┼────■────────────────────────────░─┤2       ├──────────╫──╫─┤M├───\n",
       "                      ├───┤               ░   │    │    │                                  │    │    │                            ░ │        │  │    │    │                                  │    │    │                            ░ │        │          ║  ║ └╥┘┌─┐\n",
       "    v_3: ─────────────┤ H ├───────────────░───┼────┼────┼────■─────────────────────────────┼────┼────┼────■───────────────────────░─┤3       ├──┼────┼────┼────■─────────────────────────────┼────┼────┼────■───────────────────────░─┤3       ├──────────╫──╫──╫─┤M├\n",
       "                      ├───┤               ░   │    │    │    │                             │    │    │    │                       ░ └────────┘  │    │    │    │                             │    │    │    │                       ░ └──┬─┬───┘          ║  ║  ║ └╥┘\n",
       "    v_4: ─────────────┤ H ├───────────────░───┼────┼────┼────┼────■────────────────────────┼────┼────┼────┼────■──────────────────░─────────────┼────┼────┼────┼────■────────────────────────┼────┼────┼────┼────■──────────────────░────┤M├──────────────╫──╫──╫──╫─\n",
       "                      ├───┤               ░   │    │    │    │    │                        │    │    │    │    │                  ░             │    │    │    │    │                        │    │    │    │    │                  ░    └╥┘    ┌─┐       ║  ║  ║  ║ \n",
       "    v_5: ─────────────┤ H ├───────────────░───┼────┼────┼────┼────┼────■───────────────────┼────┼────┼────┼────┼────■─────────────░─────────────┼────┼────┼────┼────┼────■───────────────────┼────┼────┼────┼────┼────■─────────────░─────╫─────┤M├───────╫──╫──╫──╫─\n",
       "                      ├───┤               ░   │    │    │    │    │    │                   │    │    │    │    │    │             ░             │    │    │    │    │    │                   │    │    │    │    │    │             ░     ║     └╥┘┌─┐    ║  ║  ║  ║ \n",
       "    v_6: ─────────────┤ H ├───────────────░───┼────┼────┼────┼────┼────┼────■──────────────┼────┼────┼────┼────┼────┼────■────────░─────────────┼────┼────┼────┼────┼────┼────■──────────────┼────┼────┼────┼────┼────┼────■────────░─────╫──────╫─┤M├────╫──╫──╫──╫─\n",
       "                      ├───┤               ░   │    │    │    │    │    │    │              │    │    │    │    │    │    │        ░             │    │    │    │    │    │    │              │    │    │    │    │    │    │        ░     ║      ║ └╥┘┌─┐ ║  ║  ║  ║ \n",
       "    v_7: ─────────────┤ H ├───────────────░───┼────┼────┼────┼────┼────┼────┼────■─────────┼────┼────┼────┼────┼────┼────┼────■───░─────────────┼────┼────┼────┼────┼────┼────┼────■─────────┼────┼────┼────┼────┼────┼────┼────■───░─────╫──────╫──╫─┤M├─╫──╫──╫──╫─\n",
       "                      └───┘               ░ ┌─┴─┐  │    │    │  ┌─┴─┐  │    │    │       ┌─┴─┐  │    │    │  ┌─┴─┐  │    │    │   ░           ┌─┴─┐  │    │    │  ┌─┴─┐  │    │    │       ┌─┴─┐  │    │    │  ┌─┴─┐  │    │    │   ░     ║      ║  ║ └╥┘ ║  ║  ║  ║ \n",
       "    c_0: ─────────────────────────────────░─┤ X ├──┼────┼────┼──┤ X ├──┼────┼────┼────■──┤ X ├──┼────┼────┼──┤ X ├──┼────┼────┼───░───────────┤ X ├──┼────┼────┼──┤ X ├──┼────┼────┼────■──┤ X ├──┼────┼────┼──┤ X ├──┼────┼────┼───░─────╫──────╫──╫──╫──╫──╫──╫──╫─\n",
       "                                          ░ └───┘┌─┴─┐  │    │  └───┘┌─┴─┐  │    │    │  └───┘┌─┴─┐  │    │  └───┘┌─┴─┐  │    │   ░           └───┘┌─┴─┐  │    │  └───┘┌─┴─┐  │    │    │  └───┘┌─┴─┐  │    │  └───┘┌─┴─┐  │    │   ░     ║      ║  ║  ║  ║  ║  ║  ║ \n",
       "    c_1: ─────────────────────────────────░──────┤ X ├──┼────┼───────┤ X ├──┼────┼────■───────┤ X ├──┼────┼───────┤ X ├──┼────┼───░────────────────┤ X ├──┼────┼───────┤ X ├──┼────┼────■───────┤ X ├──┼────┼───────┤ X ├──┼────┼───░─────╫──────╫──╫──╫──╫──╫──╫──╫─\n",
       "                                          ░      └───┘┌─┴─┐  │       └───┘┌─┴─┐  │    │       └───┘┌─┴─┐  │       └───┘┌─┴─┐  │   ░                └───┘┌─┴─┐  │       └───┘┌─┴─┐  │    │       └───┘┌─┴─┐  │       └───┘┌─┴─┐  │   ░     ║      ║  ║  ║  ║  ║  ║  ║ \n",
       "    c_2: ─────────────────────────────────░───────────┤ X ├──┼────────────┤ X ├──┼────■────────────┤ X ├──┼────────────┤ X ├──┼───░─────────────────────┤ X ├──┼────────────┤ X ├──┼────■────────────┤ X ├──┼────────────┤ X ├──┼───░─────╫──────╫──╫──╫──╫──╫──╫──╫─\n",
       "                                          ░           └───┘┌─┴─┐          └───┘┌─┴─┐  │            └───┘┌─┴─┐          └───┘┌─┴─┐ ░                     └───┘┌─┴─┐          └───┘┌─┴─┐  │            └───┘┌─┴─┐          └───┘┌─┴─┐ ░     ║      ║  ║  ║  ║  ║  ║  ║ \n",
       "    c_3: ─────────────────────────────────░────────────────┤ X ├───────────────┤ X ├──■─────────────────┤ X ├───────────────┤ X ├─░──────────────────────────┤ X ├───────────────┤ X ├──■─────────────────┤ X ├───────────────┤ X ├─░─────╫──────╫──╫──╫──╫──╫──╫──╫─\n",
       "         ┌──────────────────────────────┐ ░                └───┘               └───┘┌─┴─┐               └───┘               └───┘ ░                          └───┘               └───┘┌─┴─┐               └───┘               └───┘ ░     ║      ║  ║  ║  ║  ║  ║  ║ \n",
       "  out_0: ┤ initialize(0.70711,-0.70711) ├─░─────────────────────────────────────────┤ X ├─────────────────────────────────────────░───────────────────────────────────────────────────┤ X ├─────────────────────────────────────────░─────╫──────╫──╫──╫──╫──╫──╫──╫─\n",
       "         └──────────────────────────────┘ ░                                         └───┘                                         ░                                                   └───┘                                         ░     ║      ║  ║  ║  ║  ║  ║  ║ \n",
       "cbits: 8/═════════════════════════════════════════════════════════════════════════════════════════════════════════════════════════════════════════════════════════════════════════════════════════════════════════════════════════════════╩══════╩══╩══╩══╩══╩══╩══╩═\n",
       "                                                                                                                                                                                                                                          4      5  6  7  0  1  2  3 </pre>"
      ],
      "text/plain": [
       "                      ┌───┐               ░                                                                                       ░ ┌────────┐                                                                                      ░ ┌────────┐         ┌─┐         \n",
       "    v_0: ─────────────┤ H ├───────────────░───■────────────────────────────────────────────■──────────────────────────────────────░─┤0       ├──■────────────────────────────────────────────■──────────────────────────────────────░─┤0       ├─────────┤M├─────────\n",
       "                      ├───┤               ░   │                                            │                                      ░ │        │  │                                            │                                      ░ │        │         └╥┘┌─┐      \n",
       "    v_1: ─────────────┤ H ├───────────────░───┼────■───────────────────────────────────────┼────■─────────────────────────────────░─┤1       ├──┼────■───────────────────────────────────────┼────■─────────────────────────────────░─┤1       ├──────────╫─┤M├──────\n",
       "                      ├───┤               ░   │    │                                       │    │                                 ░ │  U$_s$ │  │    │                                       │    │                                 ░ │  U$_s$ │          ║ └╥┘┌─┐   \n",
       "    v_2: ─────────────┤ H ├───────────────░───┼────┼────■──────────────────────────────────┼────┼────■────────────────────────────░─┤2       ├──┼────┼────■──────────────────────────────────┼────┼────■────────────────────────────░─┤2       ├──────────╫──╫─┤M├───\n",
       "                      ├───┤               ░   │    │    │                                  │    │    │                            ░ │        │  │    │    │                                  │    │    │                            ░ │        │          ║  ║ └╥┘┌─┐\n",
       "    v_3: ─────────────┤ H ├───────────────░───┼────┼────┼────■─────────────────────────────┼────┼────┼────■───────────────────────░─┤3       ├──┼────┼────┼────■─────────────────────────────┼────┼────┼────■───────────────────────░─┤3       ├──────────╫──╫──╫─┤M├\n",
       "                      ├───┤               ░   │    │    │    │                             │    │    │    │                       ░ └────────┘  │    │    │    │                             │    │    │    │                       ░ └──┬─┬───┘          ║  ║  ║ └╥┘\n",
       "    v_4: ─────────────┤ H ├───────────────░───┼────┼────┼────┼────■────────────────────────┼────┼────┼────┼────■──────────────────░─────────────┼────┼────┼────┼────■────────────────────────┼────┼────┼────┼────■──────────────────░────┤M├──────────────╫──╫──╫──╫─\n",
       "                      ├───┤               ░   │    │    │    │    │                        │    │    │    │    │                  ░             │    │    │    │    │                        │    │    │    │    │                  ░    └╥┘    ┌─┐       ║  ║  ║  ║ \n",
       "    v_5: ─────────────┤ H ├───────────────░───┼────┼────┼────┼────┼────■───────────────────┼────┼────┼────┼────┼────■─────────────░─────────────┼────┼────┼────┼────┼────■───────────────────┼────┼────┼────┼────┼────■─────────────░─────╫─────┤M├───────╫──╫──╫──╫─\n",
       "                      ├───┤               ░   │    │    │    │    │    │                   │    │    │    │    │    │             ░             │    │    │    │    │    │                   │    │    │    │    │    │             ░     ║     └╥┘┌─┐    ║  ║  ║  ║ \n",
       "    v_6: ─────────────┤ H ├───────────────░───┼────┼────┼────┼────┼────┼────■──────────────┼────┼────┼────┼────┼────┼────■────────░─────────────┼────┼────┼────┼────┼────┼────■──────────────┼────┼────┼────┼────┼────┼────■────────░─────╫──────╫─┤M├────╫──╫──╫──╫─\n",
       "                      ├───┤               ░   │    │    │    │    │    │    │              │    │    │    │    │    │    │        ░             │    │    │    │    │    │    │              │    │    │    │    │    │    │        ░     ║      ║ └╥┘┌─┐ ║  ║  ║  ║ \n",
       "    v_7: ─────────────┤ H ├───────────────░───┼────┼────┼────┼────┼────┼────┼────■─────────┼────┼────┼────┼────┼────┼────┼────■───░─────────────┼────┼────┼────┼────┼────┼────┼────■─────────┼────┼────┼────┼────┼────┼────┼────■───░─────╫──────╫──╫─┤M├─╫──╫──╫──╫─\n",
       "                      └───┘               ░ ┌─┴─┐  │    │    │  ┌─┴─┐  │    │    │       ┌─┴─┐  │    │    │  ┌─┴─┐  │    │    │   ░           ┌─┴─┐  │    │    │  ┌─┴─┐  │    │    │       ┌─┴─┐  │    │    │  ┌─┴─┐  │    │    │   ░     ║      ║  ║ └╥┘ ║  ║  ║  ║ \n",
       "    c_0: ─────────────────────────────────░─┤ X ├──┼────┼────┼──┤ X ├──┼────┼────┼────■──┤ X ├──┼────┼────┼──┤ X ├──┼────┼────┼───░───────────┤ X ├──┼────┼────┼──┤ X ├──┼────┼────┼────■──┤ X ├──┼────┼────┼──┤ X ├──┼────┼────┼───░─────╫──────╫──╫──╫──╫──╫──╫──╫─\n",
       "                                          ░ └───┘┌─┴─┐  │    │  └───┘┌─┴─┐  │    │    │  └───┘┌─┴─┐  │    │  └───┘┌─┴─┐  │    │   ░           └───┘┌─┴─┐  │    │  └───┘┌─┴─┐  │    │    │  └───┘┌─┴─┐  │    │  └───┘┌─┴─┐  │    │   ░     ║      ║  ║  ║  ║  ║  ║  ║ \n",
       "    c_1: ─────────────────────────────────░──────┤ X ├──┼────┼───────┤ X ├──┼────┼────■───────┤ X ├──┼────┼───────┤ X ├──┼────┼───░────────────────┤ X ├──┼────┼───────┤ X ├──┼────┼────■───────┤ X ├──┼────┼───────┤ X ├──┼────┼───░─────╫──────╫──╫──╫──╫──╫──╫──╫─\n",
       "                                          ░      └───┘┌─┴─┐  │       └───┘┌─┴─┐  │    │       └───┘┌─┴─┐  │       └───┘┌─┴─┐  │   ░                └───┘┌─┴─┐  │       └───┘┌─┴─┐  │    │       └───┘┌─┴─┐  │       └───┘┌─┴─┐  │   ░     ║      ║  ║  ║  ║  ║  ║  ║ \n",
       "    c_2: ─────────────────────────────────░───────────┤ X ├──┼────────────┤ X ├──┼────■────────────┤ X ├──┼────────────┤ X ├──┼───░─────────────────────┤ X ├──┼────────────┤ X ├──┼────■────────────┤ X ├──┼────────────┤ X ├──┼───░─────╫──────╫──╫──╫──╫──╫──╫──╫─\n",
       "                                          ░           └───┘┌─┴─┐          └───┘┌─┴─┐  │            └───┘┌─┴─┐          └───┘┌─┴─┐ ░                     └───┘┌─┴─┐          └───┘┌─┴─┐  │            └───┘┌─┴─┐          └───┘┌─┴─┐ ░     ║      ║  ║  ║  ║  ║  ║  ║ \n",
       "    c_3: ─────────────────────────────────░────────────────┤ X ├───────────────┤ X ├──■─────────────────┤ X ├───────────────┤ X ├─░──────────────────────────┤ X ├───────────────┤ X ├──■─────────────────┤ X ├───────────────┤ X ├─░─────╫──────╫──╫──╫──╫──╫──╫──╫─\n",
       "         ┌──────────────────────────────┐ ░                └───┘               └───┘┌─┴─┐               └───┘               └───┘ ░                          └───┘               └───┘┌─┴─┐               └───┘               └───┘ ░     ║      ║  ║  ║  ║  ║  ║  ║ \n",
       "  out_0: ┤ initialize(0.70711,-0.70711) ├─░─────────────────────────────────────────┤ X ├─────────────────────────────────────────░───────────────────────────────────────────────────┤ X ├─────────────────────────────────────────░─────╫──────╫──╫──╫──╫──╫──╫──╫─\n",
       "         └──────────────────────────────┘ ░                                         └───┘                                         ░                                                   └───┘                                         ░     ║      ║  ║  ║  ║  ║  ║  ║ \n",
       "cbits: 8/═════════════════════════════════════════════════════════════════════════════════════════════════════════════════════════════════════════════════════════════════════════════════════════════════════════════════════════════════╩══════╩══╩══╩══╩══╩══╩══╩═\n",
       "                                                                                                                                                                                                                                          4      5  6  7  0  1  2  3 "
      ]
     },
     "execution_count": 8,
     "metadata": {},
     "output_type": "execute_result"
    }
   ],
   "source": [
    "def diffuser(nqubits):\n",
    "    qc = QuantumCircuit(nqubits)\n",
    "    # Apply transformation |s> -> |00..0> (H-gates)\n",
    "    for qubit in range(nqubits):\n",
    "        qc.h(qubit)\n",
    "    # Apply transformation |00..0> -> |11..1> (X-gates)\n",
    "    for qubit in range(nqubits):\n",
    "        qc.x(qubit)\n",
    "    # Do multi-controlled-Z gate\n",
    "    qc.h(nqubits-1)\n",
    "    qc.mct(list(range(nqubits-1)), nqubits-1)  # multi-controlled-toffoli\n",
    "    qc.h(nqubits-1)\n",
    "    # Apply transformation |11..1> -> |00..0>\n",
    "    for qubit in range(nqubits):\n",
    "        qc.x(qubit)\n",
    "    # Apply transformation |00..0> -> |s>\n",
    "    for qubit in range(nqubits):\n",
    "        qc.h(qubit)\n",
    "    # We will return the diffuser as a gate\n",
    "    U_s = qc.to_gate()\n",
    "    U_s.name = \"U$_s$\"\n",
    "    return U_s\n",
    "\n",
    "var_qubits = QuantumRegister(8, name='v')\n",
    "clause_qubits = QuantumRegister(4, name='c')\n",
    "output_qubit = QuantumRegister(1, name='out')\n",
    "cbits = ClassicalRegister(8, name='cbits')\n",
    "qc = QuantumCircuit(var_qubits, clause_qubits, output_qubit, cbits)\n",
    "\n",
    "# Initialize 'out0' in state |->\n",
    "qc.initialize([1, -1]/np.sqrt(2), output_qubit)\n",
    "\n",
    "# Initialize qubits in state |s>\n",
    "qc.h(var_qubits)\n",
    "qc.barrier()  # for visual separation\n",
    "\n",
    "## First Iteration\n",
    "# Apply our oracle\n",
    "oracle(qc, clause_list, clause_qubits)\n",
    "qc.barrier()  # for visual separation\n",
    "# Apply our diffuser\n",
    "qc.append(diffuser(4), [0,1,2,3])\n",
    "\n",
    "## Second Iteration\n",
    "oracle(qc, clause_list, clause_qubits)\n",
    "qc.barrier()  # for visual separation\n",
    "# Apply our diffuser\n",
    "qc.append(diffuser(4), [0,1,2,3])\n",
    "\n",
    "# Measure the variable qubits\n",
    "qc.measure(var_qubits, cbits)\n",
    "\n",
    "qc.draw(fold=-1)"
   ]
  },
  {
   "cell_type": "markdown",
   "metadata": {},
   "source": [
    "From this circuit, we can obtain the possible 8-digit combinations that would obey the condition required. Below, we pick a backend simulator and obtain the results."
   ]
  },
  {
   "cell_type": "code",
   "execution_count": 9,
   "metadata": {},
   "outputs": [],
   "source": [
    "backend = Aer.get_backend('qasm_simulator')\n",
    "transpiled_qc = transpile(qc, backend)\n",
    "qobj = assemble(transpiled_qc)\n",
    "result = backend.run(qobj).result()"
   ]
  },
  {
   "cell_type": "markdown",
   "metadata": {},
   "source": [
    "Now, because of error, not all combinations that got a count will actually be solutions to the problem. We can see the number of counts for each option as follows:"
   ]
  },
  {
   "cell_type": "code",
   "execution_count": 10,
   "metadata": {
    "scrolled": true
   },
   "outputs": [
    {
     "name": "stdout",
     "output_type": "stream",
     "text": [
      "{'00000001': 1, '00010110': 1, '00011011': 2, '00011110': 53, '00000010': 1, '00100010': 1, '00100110': 1, '00101101': 54, '00000011': 1, '00110101': 1, '00110111': 1, '00111001': 1, '00111100': 58, '00111101': 1, '00111110': 1, '00000100': 1, '01000010': 1, '01000111': 1, '01001001': 1, '01001011': 71, '01001100': 1, '01001101': 1, '01001111': 1, '01010011': 1, '01010100': 1, '01010111': 1, '01011010': 67, '01011110': 2, '01100101': 1, '01100110': 1, '01100111': 1, '01101001': 65, '01101101': 1, '01110101': 1, '01111000': 62, '01111001': 1, '01111010': 1, '01111101': 1, '10000011': 1, '10000101': 1, '10000110': 1, '10000111': 50, '10001101': 2, '10001111': 1, '10010100': 2, '10010101': 2, '10010110': 66, '10011001': 1, '10011010': 1, '10011110': 1, '10100101': 52, '10100110': 1, '10101000': 1, '10101001': 1, '10101010': 1, '10101111': 1, '10110000': 1, '10110001': 1, '10110100': 56, '10110101': 1, '10111001': 1, '10111011': 1, '10111111': 1, '00001100': 1, '11000011': 59, '11000100': 1, '11001001': 1, '11001011': 1, '11001100': 2, '11001111': 1, '00001101': 1, '11010000': 1, '11010010': 59, '11010101': 2, '11011101': 1, '11011110': 1, '11011111': 1, '11100000': 1, '11100001': 57, '11100010': 1, '11100101': 1, '11100110': 3, '11101011': 1, '11101101': 2, '11101111': 1, '00001111': 60, '11110000': 48, '11110100': 1, '11110101': 1, '11110111': 1, '11111010': 1, '11111110': 1, '11111111': 1}\n"
     ]
    }
   ],
   "source": [
    "options = result.get_counts()\n",
    "print(options)"
   ]
  },
  {
   "cell_type": "markdown",
   "metadata": {},
   "source": [
    "Clearly, the options that actually are answers to the problem got 40 or more counts. Therefore, we can create a list of possible answers:"
   ]
  },
  {
   "cell_type": "code",
   "execution_count": 11,
   "metadata": {},
   "outputs": [],
   "source": [
    "answers = []\n",
    "for (opt, val) in options.items():\n",
    "    if val>40:\n",
    "        answers.append(opt)"
   ]
  },
  {
   "cell_type": "code",
   "execution_count": 12,
   "metadata": {},
   "outputs": [
    {
     "name": "stdout",
     "output_type": "stream",
     "text": [
      "['00011110', '00101101', '00111100', '01001011', '01011010', '01101001', '01111000', '10000111', '10010110', '10100101', '10110100', '11000011', '11010010', '11100001', '00001111', '11110000']\n"
     ]
    }
   ],
   "source": [
    "print(answers)"
   ]
  },
  {
   "cell_type": "markdown",
   "metadata": {},
   "source": [
    "All of this has given us the possible combinations that would make an input a solution: if a given input had the first four digits and the last four digits of one of these options as elements, it would have two numbers that satisfy the target condition. But in order for us to be able to given an input and have the superposition of the indeces of such numbers returned, we need a new function and a new circuit for our final superposition state. Those are defined below. The idea behind the solution function is to find all of the 8-digit combinations of the binary forms of the numbers in the input, and to check if they are included among the answers. Then, depending on what the indeces of the numbers that satisfy this are, a different superposition state is returned."
   ]
  },
  {
   "cell_type": "code",
   "execution_count": 13,
   "metadata": {
    "scrolled": false
   },
   "outputs": [
    {
     "name": "stdout",
     "output_type": "stream",
     "text": [
      "[0.        +0.j 0.70710678+0.j 0.        +0.j 0.70710678+0.j]\n",
      "[0.        +0.j 0.70710678+0.j 0.        +0.j 0.70710678+0.j]\n"
     ]
    }
   ],
   "source": [
    "def decimalToBinary(n):\n",
    "    return bin(n).replace(\"0b\", \"\")\n",
    "  \n",
    "final_state = QuantumRegister(2, name='final')\n",
    "qc = QuantumCircuit(final_state)\n",
    "\n",
    "def solution(inp):\n",
    "    biInp=[]\n",
    "    i=0\n",
    "    while i<4:\n",
    "        biInp.append(decimalToBinary(inp[i]).zfill(4))\n",
    "        i+=1\n",
    "    \n",
    "    combs={}\n",
    "    j=0\n",
    "    while j<3:\n",
    "        combs[str(j)+str(j+1)]=biInp[j]+biInp[j+1]\n",
    "        j+=1\n",
    "    j=0\n",
    "    while j<2:\n",
    "        combs[str(j)+str(j+2)]=biInp[j]+biInp[j+2]\n",
    "        j+=1\n",
    "    combs['03']=biInp[0]+biInp[3]\n",
    "    \n",
    "    for (k, v) in combs.items():\n",
    "        for ans in answers:\n",
    "            if v==ans:\n",
    "                k1=int(k[0])\n",
    "                k2=int(k[1])\n",
    "                kb1=decimalToBinary(int(k[0])).zfill(2)\n",
    "                kb2=decimalToBinary(int(k[1])).zfill(2)\n",
    "                if k1==0 and k2==1:\n",
    "                    qc.initialize([1, 1, 0, 0]/np.sqrt(2), final_state)\n",
    "                elif k1==0 and k2==2:\n",
    "                    qc.initialize([1, 0, 1, 0]/np.sqrt(2), final_state)\n",
    "                elif k1==0 and k2==3:\n",
    "                    qc.initialize([1, 0, 0, 1]/np.sqrt(2), final_state)\n",
    "                elif k1==1 and k2==2:\n",
    "                    qc.initialize([0, 1, 1, 0]/np.sqrt(2), final_state)\n",
    "                elif k1==1 and k2==3:\n",
    "                    qc.initialize([0, 1, 0, 1]/np.sqrt(2), final_state)\n",
    "                else:\n",
    "                    qc.initialize([0, 0, 1, 1]/np.sqrt(2), final_state)\n",
    "\n",
    "    # Select the StatevectorSimulator from the Aer provider\n",
    "    simulator = Aer.get_backend('statevector_simulator')\n",
    "\n",
    "    # Execute and get counts\n",
    "    result = execute(qc, simulator).result()\n",
    "    statevector = result.get_statevector(qc)\n",
    "    print(statevector)\n",
    "\n",
    "    \n",
    "solution([1, 5, 7, 10])\n",
    "\n",
    "solution([1, 5, 4, 2])"
   ]
  },
  {
   "cell_type": "code",
   "execution_count": null,
   "metadata": {},
   "outputs": [],
   "source": []
  },
  {
   "cell_type": "code",
   "execution_count": null,
   "metadata": {
    "scrolled": true
   },
   "outputs": [],
   "source": [
    "\n"
   ]
  },
  {
   "cell_type": "code",
   "execution_count": null,
   "metadata": {},
   "outputs": [],
   "source": []
  },
  {
   "cell_type": "code",
   "execution_count": null,
   "metadata": {},
   "outputs": [],
   "source": []
  },
  {
   "cell_type": "code",
   "execution_count": null,
   "metadata": {},
   "outputs": [],
   "source": []
  }
 ],
 "metadata": {
  "kernelspec": {
   "display_name": "Python 3",
   "language": "python",
   "name": "python3"
  },
  "language_info": {
   "codemirror_mode": {
    "name": "ipython",
    "version": 3
   },
   "file_extension": ".py",
   "mimetype": "text/x-python",
   "name": "python",
   "nbconvert_exporter": "python",
   "pygments_lexer": "ipython3",
   "version": "3.8.3"
  }
 },
 "nbformat": 4,
 "nbformat_minor": 4
}
